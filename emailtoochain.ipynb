{
 "cells": [
  {
   "cell_type": "code",
   "execution_count": 46,
   "metadata": {},
   "outputs": [
    {
     "ename": "SyntaxError",
     "evalue": "invalid syntax (<ipython-input-46-cfae3e15a4fb>, line 26)",
     "output_type": "error",
     "traceback": [
      "\u001b[0;36m  File \u001b[0;32m\"<ipython-input-46-cfae3e15a4fb>\"\u001b[0;36m, line \u001b[0;32m26\u001b[0m\n\u001b[0;31m    fame.iloc[[:,0:3]]\u001b[0m\n\u001b[0m               ^\u001b[0m\n\u001b[0;31mSyntaxError\u001b[0m\u001b[0;31m:\u001b[0m invalid syntax\n"
     ]
    }
   ],
   "source": [
    "# Toolchain from SQL lite database to matplotlib\n",
    "import sqlite3\n",
    "import pandas as pd\n",
    "import matplotlib.pyplot as plt\n",
    "%matplotlib inline\n",
    "\n",
    "conn = sqlite3.connect('email')\n",
    "cursor = conn.cursor()\n",
    "# cursor.execute('''INSERT INTO email VALUES (5,'2020-01-01', '2020-01-03',8,'test email');''')\n",
    "# cursor.commit()\n",
    "cursor.execute(\"SELECT * FROM email;\")\n",
    "# this results is now a native python list of tuples\n",
    "results = cursor.fetchall()\n",
    "print(results)\n",
    "# Tell the database thank you and we're done\n",
    "conn.close()\n",
    "# Create a fancy DataFrame in pandas by passing in any\n",
    "# list-like structure; a list of equal-lengh tuples is perfect\n",
    "frame = pd.DataFrame(results)\n",
    "print(frame.describe())\n",
    "print(frame)\n",
    "# ask the DataFrame to display its columns and their data types\n",
    "# object is used for all text-like data (if col is all nums \n",
    "# except one text value, the whole col will be cast as object)\n",
    "print(frame.dtypes)\n",
    "fame.iloc[[:,0:3]]\n",
    "idx = frame.iloc[:,[True, False, False, False, False]]\n",
    "urg = frame.iloc[:,[False, False, False,True, False]]\n",
    "# checking for numeric type columns, and plotting them\n",
    "frame.plot(idx,urg,kind='line')\n",
    "\n"
   ]
  },
  {
   "cell_type": "code",
   "execution_count": null,
   "metadata": {
    "collapsed": true
   },
   "outputs": [],
   "source": []
  },
  {
   "cell_type": "code",
   "execution_count": null,
   "metadata": {
    "collapsed": true
   },
   "outputs": [],
   "source": []
  }
 ],
 "metadata": {
  "kernelspec": {
   "display_name": "Python 3",
   "language": "python",
   "name": "python3"
  },
  "language_info": {
   "codemirror_mode": {
    "name": "ipython",
    "version": 3
   },
   "file_extension": ".py",
   "mimetype": "text/x-python",
   "name": "python",
   "nbconvert_exporter": "python",
   "pygments_lexer": "ipython3",
   "version": "3.6.3"
  }
 },
 "nbformat": 4,
 "nbformat_minor": 2
}
